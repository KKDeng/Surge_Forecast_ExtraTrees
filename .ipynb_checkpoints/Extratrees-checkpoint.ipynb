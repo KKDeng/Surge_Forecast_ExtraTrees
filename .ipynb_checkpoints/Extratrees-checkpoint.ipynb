{
 "cells": [
  {
   "cell_type": "code",
   "execution_count": null,
   "metadata": {
    "collapsed": false
   },
   "outputs": [],
   "source": [
    "import pandas as pd\n",
    "import numpy as np\n",
    "import matplotlib.pyplot as plt\n",
    "from prepare_data import prepare_data\n",
    "from train_models import train_models\n",
    "from plotter import split_for_plot\n",
    "%matplotlib inline"
   ]
  },
  {
   "cell_type": "code",
   "execution_count": null,
   "metadata": {
    "collapsed": false
   },
   "outputs": [],
   "source": [
    "df = pd.read_csv('../mydata.csv')\n",
    "data_prep = prepare_data(df)\n",
    "data_prep.build_dataframes_for_points()\n",
    "data_prep.time_series_to_regression()"
   ]
  },
  {
   "cell_type": "code",
   "execution_count": null,
   "metadata": {
    "collapsed": false
   },
   "outputs": [],
   "source": [
    "x = data_prep.get_point_data()\n",
    "train_my_models = train_models(x)\n",
    "train_my_models.fit()"
   ]
  },
  {
   "cell_type": "code",
   "execution_count": null,
   "metadata": {
    "collapsed": false
   },
   "outputs": [],
   "source": [
    "who_cares = train_my_models.predict_on_test_sets()\n",
    "predicted_values = train_my_models.predict_on_hold_out_sets()"
   ]
  },
  {
   "cell_type": "code",
   "execution_count": null,
   "metadata": {
    "collapsed": false
   },
   "outputs": [],
   "source": [
    "train_my_models.mse_on_test_sets()"
   ]
  },
  {
   "cell_type": "code",
   "execution_count": null,
   "metadata": {
    "collapsed": false,
    "scrolled": true
   },
   "outputs": [],
   "source": [
    "train_my_models.mse_on_hold_out_sets()"
   ]
  },
  {
   "cell_type": "markdown",
   "metadata": {},
   "source": [
    "# plots of all points"
   ]
  },
  {
   "cell_type": "code",
   "execution_count": null,
   "metadata": {
    "collapsed": true
   },
   "outputs": [],
   "source": [
    "my_plots = split_for_plot(predicted_values, x)"
   ]
  },
  {
   "cell_type": "code",
   "execution_count": null,
   "metadata": {
    "collapsed": false
   },
   "outputs": [],
   "source": [
    "my_plots.plot_1()"
   ]
  },
  {
   "cell_type": "code",
   "execution_count": null,
   "metadata": {
    "collapsed": false
   },
   "outputs": [],
   "source": [
    "my_plots.plot_2()"
   ]
  },
  {
   "cell_type": "markdown",
   "metadata": {},
   "source": [
    "# doing grid searches"
   ]
  },
  {
   "cell_type": "code",
   "execution_count": null,
   "metadata": {
    "collapsed": false
   },
   "outputs": [],
   "source": [
    "'''\n",
    "These are the models I used grid search cross validation on. I import a class called EstimatorSelectionHelper that\n",
    "runs through all of the different models their parameters and fits everyone using all possible combinations of\n",
    "parameters. It then prints out a summary of the results ordered by best performing model from the grid search in\n",
    "a pandas dataframe.\n",
    "'''\n",
    "from grid_search_helper import EstimatorSelectionHelper\n",
    "\n",
    "# models1 = {'LinearRegression':LinearRegression(),\n",
    "#            'Ridge':Ridge(),\n",
    "#            'Lasso':Lasso(),\n",
    "#            'ExtraTreesRegressor':ExtraTreesRegressor(),\n",
    "#            'RandomForestRegressor':RandomForestRegressor(),\n",
    "#            'AdaBoostRegressor':AdaBoostRegressor(),\n",
    "#            'GradientBoostingRegressor':GradientBoostingRegressor()}\n",
    "\n",
    "# params1 = {'LinearRegression':{},\n",
    "#            'Ridge':{'alpha':[0.001, 0.01, 0.1, 1.0]},\n",
    "#            'Lasso':{'alpha':[0.001, 0.01, 0.1, 1.0]},\n",
    "#            'ExtraTreesRegressor':{'n_estimators':[8,16,32,64,128]},\n",
    "#            'RandomForestRegressor':{'n_estimators':[8,16,32,64,128]},\n",
    "#            'AdaBoostRegressor':{'n_estimators':[8,16,32,64,128],'learning_rate':[0.6,0.8,1.0]},\n",
    "#            'GradientBoostingRegressor':{'n_estimators':[8,16,32,64,128],'learning_rate':[0.6,0.8,1.0]}}\n",
    "\n",
    "# models1 = {'ExtraTreesRegressor':ExtraTreesRegressor()}\n",
    "\n",
    "# params1 = {'ExtraTreesRegressor':{'n_estimators':[128,256],\n",
    "#                                   'max_features':[0.7,0.8,0.9,1.0],\n",
    "#                                   'min_samples_leaf':[50,60,70,80]}\n",
    "#           }"
   ]
  },
  {
   "cell_type": "code",
   "execution_count": null,
   "metadata": {
    "collapsed": false
   },
   "outputs": [],
   "source": [
    "helper1 = EstimatorSelectionHelper(models1, params1)\n",
    "helper1.fit(X_train, y_train, n_jobs=-1)"
   ]
  },
  {
   "cell_type": "code",
   "execution_count": null,
   "metadata": {
    "collapsed": false
   },
   "outputs": [],
   "source": [
    "helper1.score_summary(sort_by='min_score')"
   ]
  },
  {
   "cell_type": "code",
   "execution_count": null,
   "metadata": {
    "collapsed": true
   },
   "outputs": [],
   "source": []
  }
 ],
 "metadata": {
  "kernelspec": {
   "display_name": "Python 2",
   "language": "python",
   "name": "python2"
  },
  "language_info": {
   "codemirror_mode": {
    "name": "ipython",
    "version": 2
   },
   "file_extension": ".py",
   "mimetype": "text/x-python",
   "name": "python",
   "nbconvert_exporter": "python",
   "pygments_lexer": "ipython2",
   "version": "2.7.11"
  },
  "widgets": {
   "state": {},
   "version": "1.1.2"
  }
 },
 "nbformat": 4,
 "nbformat_minor": 0
}
